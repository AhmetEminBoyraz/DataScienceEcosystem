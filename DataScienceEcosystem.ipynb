{
 "cells": [
  {
   "attachments": {},
   "cell_type": "markdown",
   "id": "30879a1a-cda3-4ff5-91fd-1887eba9a32d",
   "metadata": {},
   "source": [
    "# Data Science Tools and Ecosystem"
   ]
  },
  {
   "cell_type": "markdown",
   "id": "9b478330-a794-4dc1-9c65-af210a6ef212",
   "metadata": {},
   "source": [
    "In this notebook, Data Science Tools and Ecosystem are summarized."
   ]
  },
  {
   "cell_type": "markdown",
   "id": "45752907-544e-42b7-9842-2face226cb6d",
   "metadata": {},
   "source": [
    "#### Some of the popular languages that Data Scientists use are:"
   ]
  },
  {
   "cell_type": "markdown",
   "id": "0e8babb0-10e8-45de-a7d0-9f9cdc69dc75",
   "metadata": {},
   "source": [
    "1. Python\n",
    " 2. R\n",
    " 3. SQL\n",
    " 4. Java\n",
    " 5. Julia\n",
    " 6. Scala\n",
    " 7. C/C++\n",
    " 8. JavaScript"
   ]
  },
  {
   "cell_type": "markdown",
   "id": "bc57ff1d-e35f-4a19-a43c-d8eb606c94eb",
   "metadata": {},
   "source": [
    "#### Some of the commonly used libraries used by Data Scientists include:"
   ]
  },
  {
   "cell_type": "markdown",
   "id": "8a9f1a23-a6c0-42da-80b6-7e8a3d5cc411",
   "metadata": {},
   "source": [
    "1. NumPy\n",
    " 2. Matplotlib\n",
    " 3. Pandas\n",
    " 4. SciPy\n",
    " 5. TensorFlow\n",
    " 6. PyTorch\n",
    " 7. SciKit-Learn\n",
    " 8. Keras\n",
    " 9. Seaborn"
   ]
  },
  {
   "cell_type": "markdown",
   "id": "ec22fd29-821b-483c-93e8-b11d569b79e2",
   "metadata": {},
   "source": [
    "#### Data Science Tools"
   ]
  },
  {
   "cell_type": "markdown",
   "id": "f1ded3e7-4e28-4caf-9ee7-5e74cb6c75ee",
   "metadata": {},
   "source": [
    "##### Data Management Tools:\n",
    "My SQL, PostgreSQL, MongoDB, Apache CouchDB, Apache Cassandra, Hadoop File System, Ceph\n",
    "##### Data Integration and Transformation Tools:\n",
    "Apache AirFlow, KubeFlow, Apache Kafka, Apache Nifi, Apache SparkSQL, NodeRED\n",
    "##### Data Visualization Tools:\n",
    "Pixie Dust, Hue, Kibana, Apache Superset\n",
    "##### Model Deployment Tools:\n",
    "Apache PredictionIO, Seldon, Kubernetes, Redhat, OpenShift, Mleap, TensorFlow lite, TensorFlow dot JS\n",
    "##### Model Monitoring Tools:\n",
    "ModelDB, Prometheus, IBM AI Fairness 360, IBM Adversarial Robustness 360 Toolbox, IBM AI Explainability 360\n",
    "##### Code Asset Managetment Tools:\n",
    "Git, GitHub, GitLab, Bitbucket\n",
    "##### Data Asset Management Tools:\n",
    "Apache Atlas, ODPi Egeria, Kylo"
   ]
  },
  {
   "cell_type": "markdown",
   "id": "24b64fb4-fccc-46dc-ad49-916fbc7031e0",
   "metadata": {},
   "source": [
    "#### Below are a few examples of evaluating arithmetic expressions in Python"
   ]
  },
  {
   "cell_type": "markdown",
   "id": "6033aa51-cd20-4ed9-98b6-96ef48836ec6",
   "metadata": {},
   "source": [
    "```python\n",
    "Addition: 2+5\n",
    "Subtraction: 5-2\n",
    "Multiplication: 2*5\n",
    "Division: 220/7\n",
    "Quotient: 220//7\n",
    "Exponentiation: 2**3\n",
    "Remainder:100%17\n",
    "```\n",
    "```python\n",
    "Results: 7,3,10,'31,4285714',30,8,15\n",
    "```"
   ]
  },
  {
   "cell_type": "markdown",
   "id": "ad87cc96-0e8f-43bd-8180-257a96783349",
   "metadata": {},
   "source": [
    "#### This a simple arithmetic expression to mutiply then add integers"
   ]
  },
  {
   "cell_type": "code",
   "execution_count": 48,
   "id": "893b5e13-44ac-49ae-aad5-cdb8afa97467",
   "metadata": {},
   "outputs": [
    {
     "data": {
      "text/plain": [
       "17"
      ]
     },
     "execution_count": 48,
     "metadata": {},
     "output_type": "execute_result"
    }
   ],
   "source": [
    "(3*4)+5"
   ]
  },
  {
   "cell_type": "markdown",
   "id": "2ef41032-8bdd-44be-b924-4c1c5f98588d",
   "metadata": {},
   "source": [
    "#### This will convert 200 minutes to hours by diving by 60"
   ]
  },
  {
   "cell_type": "code",
   "execution_count": 51,
   "id": "b06ae095-6244-4f6f-a8eb-f619d762ab5a",
   "metadata": {},
   "outputs": [
    {
     "data": {
      "text/plain": [
       "3.6666666666666665"
      ]
     },
     "execution_count": 51,
     "metadata": {},
     "output_type": "execute_result"
    }
   ],
   "source": [
    "220/60"
   ]
  },
  {
   "cell_type": "markdown",
   "id": "6b0f6614-ae4b-4d85-bc8c-9df65780e895",
   "metadata": {},
   "source": [
    "### <B>Objectives</b>\n",
    "<b>List popular languages for Data Science</b>"
   ]
  },
  {
   "cell_type": "markdown",
   "id": "ac5c2f12-0181-4fa6-8050-de3b2a4724a2",
   "metadata": {},
   "source": [
    "- Python\n",
    "-  R\n",
    "-  SQL\n",
    "-  Java\n",
    "-  Julia\n",
    " "
   ]
  },
  {
   "cell_type": "markdown",
   "id": "84d165a5-a8b5-4191-838a-077eab29c21e",
   "metadata": {},
   "source": [
    "## Author\n",
    "AHMET EMIN BOYRAZ"
   ]
  },
  {
   "cell_type": "code",
   "execution_count": null,
   "id": "e73cf880-8b76-4ba1-9fd3-dd5b0dbba76a",
   "metadata": {},
   "outputs": [],
   "source": []
  }
 ],
 "metadata": {
  "kernelspec": {
   "display_name": "Python 3 (ipykernel)",
   "language": "python",
   "name": "python3"
  },
  "language_info": {
   "codemirror_mode": {
    "name": "ipython",
    "version": 3
   },
   "file_extension": ".py",
   "mimetype": "text/x-python",
   "name": "python",
   "nbconvert_exporter": "python",
   "pygments_lexer": "ipython3",
   "version": "3.11.7"
  }
 },
 "nbformat": 4,
 "nbformat_minor": 5
}
